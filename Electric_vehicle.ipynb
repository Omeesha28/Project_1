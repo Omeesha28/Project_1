{
 "cells": [
  {
   "cell_type": "markdown",
   "metadata": {},
   "source": [
    "## Data Analysis On Electric Vehicle "
   ]
  },
  {
   "cell_type": "markdown",
   "metadata": {},
   "source": [
    "- It involves using different graphs and plots to help visualise the data and also uses statistical methods to draw inferences from the data.\n",
    "\n",
    "- The goal of this analysis is not to arrive at a certain right answer or to confirm a pre-defined hypothesis. It is an exploratory process to draw inferences and get ideas on how the data can be further utilised to predict certain outcomes/develop ML models"
   ]
  },
  {
   "cell_type": "markdown",
   "metadata": {
    "id": "sesM50tmSeWk"
   },
   "source": [
    "## Introduction to the Electric Vehicles"
   ]
  },
  {
   "cell_type": "markdown",
   "metadata": {
    "id": "_WWzvtnJUo7S"
   },
   "source": [
    "Which is the best electric car? What would be the best option for the x person? \n",
    "\n",
    "- Which car?\n",
    "** Mileage/Range \n",
    "** Pricing \n",
    "** How many seats\n",
    "- How far is the charging station?\n",
    "** Charging for the price?\n",
    "** If charging station is supercharge - DURATION?\n",
    "- Does the car manufature give goverment subsidy?\n",
    "\n",
    "## About Dataset\n",
    "\n",
    "We will be downloading the electric vehicle manufature data set from: \n",
    "https://documenter.getpostman.com/view/3967924/RW1hhvSR#5977afdf-8740-401a-9fd5-e926c983aa52\n",
    "- Get Dealers\n",
    "\n",
    "https://rapidapi.com/letscrape-6bRBa3QguO5/api/ev-charge-finder\n",
    "- Charging Location \n",
    "\n",
    "### PROJECT OUTINE\n",
    "\n",
    "The steps involved in the process of Exploratory Data Analysis are.,\n",
    "\n",
    "- Import the required libraries and its dependencies.\n",
    "\n",
    "- Download the dataset.\n",
    "\n",
    "- Data preparation and cleaning it.\n",
    "\n",
    "- Exploratory Analysis.\n",
    "\n",
    "- Ask and solve questions from the data.\n",
    "\n",
    "- Pictorial representation of data using visualization techniques."
   ]
  },
  {
   "cell_type": "markdown",
   "metadata": {
    "id": "wW331e6qXNUA"
   },
   "source": [
    "## Installing Packages and Importing Libraries"
   ]
  },
  {
   "cell_type": "code",
   "execution_count": 1,
   "metadata": {},
   "outputs": [],
   "source": [
    "#!pip install opendatasets jovian --quiet --upgrade"
   ]
  },
  {
   "cell_type": "code",
   "execution_count": 2,
   "metadata": {},
   "outputs": [
    {
     "data": {
      "application/javascript": "if (window.IPython && IPython.notebook.kernel) IPython.notebook.kernel.execute('jovian.utils.jupyter.get_notebook_name_saved = lambda: \"' + IPython.notebook.notebook_name + '\"')",
      "text/plain": [
       "<IPython.core.display.Javascript object>"
      ]
     },
     "metadata": {},
     "output_type": "display_data"
    }
   ],
   "source": [
    "import opendatasets as od\n",
    "import pandas as pd\n",
    "import numpy as np\n",
    "import matplotlib.pyplot as plt\n",
    "import seaborn as sns\n",
    "import plotly.express as px\n",
    "import plotly.graph_objs as go\n",
    "from plotly.subplots import make_subplots\n",
    "import jovian\n",
    "\n",
    "%matplotlib inline"
   ]
  },
  {
   "cell_type": "code",
   "execution_count": 4,
   "metadata": {},
   "outputs": [],
   "source": [
    "# Import the Rapid API key\n",
    "from config import RapidAPIKey\n",
    "\n",
    "# Import the PostMate/MarketCheck API key\n",
    "\n",
    "\n"
   ]
  },
  {
   "cell_type": "markdown",
   "metadata": {},
   "source": [
    "## Steps in Exploratory Data Analysis\n",
    "* Select the real-world data set from Kaggle/any other source.\n",
    "* Download the dataset and convert it into a Pandas DataFrame.\n",
    "* Perform data cleaning/deal with missing values using Pandas and NumPy.\n",
    "* Plot interactive graphs to understand the data using visual libraries like Plotly.\n",
    "* Ask and Answer interesting questions from the dataset.\n",
    "* Summarize your key inferences and state the conclusion.\n",
    "* Elaborate on ideas for future work and quote references."
   ]
  },
  {
   "cell_type": "markdown",
   "metadata": {
    "id": "kprU8zHjYIpf"
   },
   "source": [
    "## Step 1: Download the dataset"
   ]
  },
  {
   "cell_type": "code",
   "execution_count": 5,
   "metadata": {
    "id": "2uV40oN_X2yS"
   },
   "outputs": [],
   "source": [
    "#!pip install opendatasets --upgrade --quiet"
   ]
  },
  {
   "cell_type": "code",
   "execution_count": null,
   "metadata": {},
   "outputs": [],
   "source": []
  },
  {
   "cell_type": "code",
   "execution_count": 3,
   "metadata": {},
   "outputs": [
    {
     "name": "stdout",
     "output_type": "stream",
     "text": [
      "{'status': 'OK', 'request_id': '34868098-14fd-4471-8e58-c7d84997a0b9', 'data': [{'id': '0x89c3b6159d6ff083:0xf1324fe759a5a3df', 'name': 'EVgo Charging Station', 'connectors': [{'type': 'CCS', 'total': 6, 'available': 3, 'kw': 200, 'speed': 'Very fast'}, {'type': 'CHAdeMO', 'total': 6, 'available': 3, 'kw': 100, 'speed': 'Fast'}], 'formatted_address': '55 Parsonage Rd, Edison, NJ 08837', 'address_components': {'district': None, 'street_address': '55 Parsonage Rd', 'city': 'Edison', 'zipcode': '08837', 'state': 'New Jersey', 'country': 'US'}, 'latitude': 40.54438, 'longitude': -74.334418, 'place_link': 'https://www.google.com/maps/place/data=!3m1!4b1!4m2!3m1!1s0x89c3b6159d6ff083:0xf1324fe759a5a3df', 'phone_number': '+18774943833', 'opening_hours': {'Thursday': ['Open 24 hours'], 'Friday': ['Open 24 hours'], 'Saturday': ['Open 24 hours'], 'Sunday': ['Open 24 hours'], 'Monday': ['Open 24 hours'], 'Tuesday': ['Open 24 hours'], 'Wednesday': ['Open 24 hours']}, 'rating': 2.4, 'review_count': 30, 'website': 'https://www.evgo.com', 'photo': 'https://lh5.googleusercontent.com/p/AF1QipP_hj5ze8PdSjSxI6Qvj4eLf9lSq25dlRPT0Zj-=w1505-h2000-k-no', 'google_place_id': 'ChIJg_BvnRW2w4kR36OlWedPMvE', 'google_cid': '17380041767036232671'}, {'id': '0x89c3b66aef2c1763:0xaf7123d108bfe647', 'name': 'Tesla Supercharger', 'connectors': [{'type': 'Tesla', 'total': 8, 'available': None, 'kw': 250, 'speed': 'Very fast'}, {'type': 'Tesla', 'total': 8, 'available': None, 'kw': 150, 'speed': 'Very fast'}], 'formatted_address': '55 Parsonage Rd, Edison, NJ 08837', 'address_components': {'district': None, 'street_address': '55 Parsonage Rd', 'city': 'Edison', 'zipcode': '08837', 'state': 'New Jersey', 'country': 'US'}, 'latitude': 40.5445941, 'longitude': -74.3341439, 'place_link': 'https://www.google.com/maps/place/data=!3m1!4b1!4m2!3m1!1s0x89c3b66aef2c1763:0xaf7123d108bfe647', 'phone_number': '+18777983752', 'opening_hours': {'Thursday': ['Open 24 hours'], 'Friday': ['Open 24 hours'], 'Saturday': ['Open 24 hours'], 'Sunday': ['Open 24 hours'], 'Monday': ['Open 24 hours'], 'Tuesday': ['Open 24 hours'], 'Wednesday': ['Open 24 hours']}, 'rating': 4.4, 'review_count': 157, 'website': 'https://www.tesla.com', 'photo': 'https://lh5.googleusercontent.com/p/AF1QipOrgsXdk-vGYtA226R2CJsX1JZX2MhDQo8mYfY1=w3000-h4000-k-no', 'google_place_id': 'ChIJYxcs72q2w4kRR-a_CNEjca8', 'google_cid': '12641925009707624007'}, {'id': '0x89c3c9355b9b9517:0xcc0bf41782c035bc', 'name': 'Tesla Supercharger', 'connectors': [{'type': 'Tesla', 'total': 8, 'available': None, 'kw': 250, 'speed': 'Very fast'}], 'formatted_address': 'US-1 #580, Edison, NJ 08817', 'address_components': {'district': None, 'street_address': 'US-1 #580', 'city': 'Edison', 'zipcode': '08817', 'state': 'New Jersey', 'country': 'US'}, 'latitude': 40.506349199999995, 'longitude': -74.39361579999999, 'place_link': 'https://www.google.com/maps/place/data=!3m1!4b1!4m2!3m1!1s0x89c3c9355b9b9517:0xcc0bf41782c035bc', 'phone_number': None, 'opening_hours': {'Thursday': ['Open 24 hours'], 'Friday': ['Open 24 hours'], 'Saturday': ['Open 24 hours'], 'Sunday': ['Open 24 hours'], 'Monday': ['Open 24 hours'], 'Tuesday': ['Open 24 hours'], 'Wednesday': ['Open 24 hours']}, 'rating': 3.8, 'review_count': 6, 'website': 'https://www.tesla.com/supercharger', 'photo': 'https://lh5.googleusercontent.com/p/AF1QipOmnNrVPtE1ZOsrmRQrIlJLEf-fBnYDRndXWhdZ=w3024-h4032-k-no', 'google_place_id': 'ChIJF5WbWzXJw4kRvDXAghf0C8w', 'google_cid': '14703113790296176060'}, {'id': '0x89c3c9dcc01f4d87:0x1484328e61db5ce7', 'name': 'ChargePoint Charging Station', 'connectors': [{'type': 'CCS', 'total': 2, 'available': 0, 'kw': 24, 'speed': 'Medium'}], 'formatted_address': '125 Raritan Center Pkwy, Edison, NJ 08837', 'address_components': {'district': None, 'street_address': '125 Raritan Center Pkwy', 'city': 'Edison', 'zipcode': '08837', 'state': 'New Jersey', 'country': 'US'}, 'latitude': 40.519330499999995, 'longitude': -74.3408773, 'place_link': 'https://www.google.com/maps/place/data=!3m1!4b1!4m2!3m1!1s0x89c3c9dcc01f4d87:0x1484328e61db5ce7', 'phone_number': '+18887584389', 'opening_hours': {'Thursday': ['Open 24 hours'], 'Friday': ['Open 24 hours'], 'Saturday': ['Open 24 hours'], 'Sunday': ['Open 24 hours'], 'Monday': ['Open 24 hours'], 'Tuesday': ['Open 24 hours'], 'Wednesday': ['Open 24 hours']}, 'rating': 1.5, 'review_count': 4, 'website': 'https://na.chargepoint.com/charge_point?id=1:118489&action=VIEW', 'photo': 'https://streetviewpixels-pa.googleapis.com/v1/thumbnail?panoid=82z-NTz41hC4QYjJvYme2g&cb_client=search.gws-prod.gps&w=86&h=86&yaw=278.89883&pitch=0&thumbfov=100', 'google_place_id': 'ChIJh00fwNzJw4kR51zbYY4yhBQ', 'google_cid': '1478362164792876263'}, {'id': '0x89c3c8aca4f99bc7:0xb2bb54aef3b1f409', 'name': 'Electrify America Charging Station', 'connectors': [{'type': 'CCS', 'total': 4, 'available': None, 'kw': 350, 'speed': 'Super fast'}, {'type': 'CCS', 'total': 15, 'available': None, 'kw': 150, 'speed': 'Very fast'}, {'type': 'CHAdeMO', 'total': 1, 'available': None, 'kw': 50, 'speed': 'Fast'}], 'formatted_address': '290 NJ-18, East Brunswick, NJ 08816', 'address_components': {'district': None, 'street_address': '290 NJ-18', 'city': 'East Brunswick', 'zipcode': '08816', 'state': 'New Jersey', 'country': 'US'}, 'latitude': 40.4576835, 'longitude': -74.3991958, 'place_link': 'https://www.google.com/maps/place/data=!3m1!4b1!4m2!3m1!1s0x89c3c8aca4f99bc7:0xb2bb54aef3b1f409', 'phone_number': '+18336322778', 'opening_hours': {'Thursday': ['Open 24 hours'], 'Friday': ['Open 24 hours'], 'Saturday': ['Open 24 hours'], 'Sunday': ['Open 24 hours'], 'Monday': ['Open 24 hours'], 'Tuesday': ['Open 24 hours'], 'Wednesday': ['Open 24 hours']}, 'rating': 4.3, 'review_count': 86, 'website': 'https://www.electrifyamerica.com', 'photo': 'https://lh5.googleusercontent.com/p/AF1QipPznTy58LMubHTQt0NX3qxYvkS8ZF8o4_oIKabJ=w4000-h3000-k-no', 'google_place_id': 'ChIJx5v5pKzIw4kRCfSx865Uu7I', 'google_cid': '12878980669785633801'}, {'id': '0x89c3c417746c4a29:0xa999201429c1d927', 'name': 'EVgo Charging Station', 'connectors': [{'type': 'CCS', 'total': 2, 'available': 2, 'kw': 200, 'speed': 'Very fast'}, {'type': 'CHAdeMO', 'total': 2, 'available': 2, 'kw': 100, 'speed': 'Fast'}], 'formatted_address': '1505 US-1, North Brunswick Township, NJ 08902', 'address_components': {'district': None, 'street_address': '1505 US-1', 'city': 'North Brunswick Township', 'zipcode': '08902', 'state': 'New Jersey', 'country': 'US'}, 'latitude': 40.4565104, 'longitude': -74.479243, 'place_link': 'https://www.google.com/maps/place/data=!3m1!4b1!4m2!3m1!1s0x89c3c417746c4a29:0xa999201429c1d927', 'phone_number': '+18774943833', 'opening_hours': {'Thursday': ['Open 24 hours'], 'Friday': ['Open 24 hours'], 'Saturday': ['Open 24 hours'], 'Sunday': ['Open 24 hours'], 'Monday': ['Open 24 hours'], 'Tuesday': ['Open 24 hours'], 'Wednesday': ['Open 24 hours']}, 'rating': 3.8, 'review_count': 13, 'website': 'https://www.evgo.com', 'photo': 'https://lh5.googleusercontent.com/p/AF1QipMZoAX6uAy6wfV4HWtEHHKhX6ul7D0xbY2fCMXU=w4032-h3024-k-no', 'google_place_id': 'ChIJKUpsdBfEw4kRJ9nBKRQgmak', 'google_cid': '12220834334818556199'}, {'id': '0x89c3c818cd87e125:0x26811a232d2ea783', 'name': 'ChargePoint Charging Station', 'connectors': [{'type': 'J1772', 'total': 4, 'available': 4, 'kw': 6.48, 'speed': 'Slow'}], 'formatted_address': '2147 NJ-27, Edison, NJ 08817', 'address_components': {'district': None, 'street_address': '2147 NJ-27', 'city': 'Edison', 'zipcode': '08817', 'state': 'New Jersey', 'country': 'US'}, 'latitude': 40.528799899999996, 'longitude': -74.3844, 'place_link': 'https://www.google.com/maps/place/data=!3m1!4b1!4m2!3m1!1s0x89c3c818cd87e125:0x26811a232d2ea783', 'phone_number': '+18887584389', 'opening_hours': {'Thursday': ['Open 24 hours'], 'Friday': ['Open 24 hours'], 'Saturday': ['Open 24 hours'], 'Sunday': ['Open 24 hours'], 'Monday': ['Open 24 hours'], 'Tuesday': ['Open 24 hours'], 'Wednesday': ['Open 24 hours']}, 'rating': None, 'review_count': 0, 'website': 'https://www.chargepoint.com', 'photo': 'https://streetviewpixels-pa.googleapis.com/v1/thumbnail?panoid=f1HyX7XAsahu_GeJJWbEYQ&cb_client=search.gws-prod.gps&w=86&h=86&yaw=319.05753&pitch=0&thumbfov=100', 'google_place_id': 'ChIJJeGHzRjIw4kRg6cuLSMagSY', 'google_cid': '2774527583821145987'}, {'id': '0x89c3c95f615d42e5:0xcfc25388dccb75a3', 'name': 'Tesla Supercharger', 'connectors': [{'type': 'Tesla', 'total': 8, 'available': None, 'kw': 250, 'speed': 'Very fast'}], 'formatted_address': 'Old Bridge Turnpike #656, South River, NJ 08882', 'address_components': {'district': None, 'street_address': 'Old Bridge Turnpike #656', 'city': 'South River', 'zipcode': '08882', 'state': 'New Jersey', 'country': 'US'}, 'latitude': 40.4619934, 'longitude': -74.4009047, 'place_link': 'https://www.google.com/maps/place/data=!3m1!4b1!4m2!3m1!1s0x89c3c95f615d42e5:0xcfc25388dccb75a3', 'phone_number': None, 'opening_hours': {'Thursday': ['Open 24 hours'], 'Friday': ['Open 24 hours'], 'Saturday': ['Open 24 hours'], 'Sunday': ['Open 24 hours'], 'Monday': ['Open 24 hours'], 'Tuesday': ['Open 24 hours'], 'Wednesday': ['Open 24 hours']}, 'rating': 3.3, 'review_count': 3, 'website': 'https://www.tesla.com/supercharger', 'photo': 'https://lh5.googleusercontent.com/p/AF1QipMfmaLH_5uV3PD0sH4ZAwhnI5RUNvp_Ku_THIwu=w4032-h3024-k-no', 'google_place_id': 'ChIJ5UJdYV_Jw4kRo3XL3IhTws8', 'google_cid': '14970619958617929123'}, {'id': '0x89c3ca74e36222a9:0xc8ec72d4647a559', 'name': 'EVgo Charging Station', 'connectors': [{'type': 'CCS', 'total': 2, 'available': 1, 'kw': 350, 'speed': 'Super fast'}, {'type': 'CHAdeMO', 'total': 2, 'available': 2, 'kw': 100, 'speed': 'Fast'}, {'type': 'CCS', 'total': 2, 'available': 2, 'kw': 100, 'speed': 'Fast'}], 'formatted_address': '365 Convery Blvd, Perth Amboy, NJ 08861', 'address_components': {'district': None, 'street_address': '365 Convery Blvd', 'city': 'Perth Amboy', 'zipcode': '08861', 'state': 'New Jersey', 'country': 'US'}, 'latitude': 40.5175, 'longitude': -74.28587, 'place_link': 'https://www.google.com/maps/place/data=!3m1!4b1!4m2!3m1!1s0x89c3ca74e36222a9:0xc8ec72d4647a559', 'phone_number': '+18774943833', 'opening_hours': {'Thursday': ['Open 24 hours'], 'Friday': ['Open 24 hours'], 'Saturday': ['Open 24 hours'], 'Sunday': ['Open 24 hours'], 'Monday': ['Open 24 hours'], 'Tuesday': ['Open 24 hours'], 'Wednesday': ['Open 24 hours']}, 'rating': 5, 'review_count': 3, 'website': 'https://www.evgo.com', 'photo': 'https://streetviewpixels-pa.googleapis.com/v1/thumbnail?panoid=MTfSGk3rH_heiLJcCEPM7g&cb_client=search.gws-prod.gps&w=86&h=86&yaw=39.91097&pitch=0&thumbfov=100', 'google_place_id': 'ChIJqSJi43TKw4kRWaVHRi3Hjgw', 'google_cid': '904879572414604633'}, {'id': '0x89c3c6336cb63d15:0xd8cda9fb9d77a12d', 'name': 'ChargePoint Charging Station', 'connectors': [{'type': 'J1772', 'total': 2, 'available': 1, 'kw': 6.48, 'speed': 'Slow'}], 'formatted_address': '220 S 6th Ave, Highland Park, NJ 08904', 'address_components': {'district': None, 'street_address': '220 S 6th Ave', 'city': 'Highland Park', 'zipcode': '08904', 'state': 'New Jersey', 'country': 'US'}, 'latitude': 40.497746299999996, 'longitude': -74.4218059, 'place_link': 'https://www.google.com/maps/place/data=!3m1!4b1!4m2!3m1!1s0x89c3c6336cb63d15:0xd8cda9fb9d77a12d', 'phone_number': '+18887584389', 'opening_hours': {'Thursday': ['Open 24 hours'], 'Friday': ['Open 24 hours'], 'Saturday': ['Open 24 hours'], 'Sunday': ['Open 24 hours'], 'Monday': ['Open 24 hours'], 'Tuesday': ['Open 24 hours'], 'Wednesday': ['Open 24 hours']}, 'rating': 5, 'review_count': 1, 'website': 'https://na.chargepoint.com/charge_point?id=1:5535591&action=VIEW', 'photo': 'https://streetviewpixels-pa.googleapis.com/v1/thumbnail?panoid=P2kaPkp5Su-gtx0g5HYhaQ&cb_client=search.gws-prod.gps&w=86&h=86&yaw=285.60104&pitch=0&thumbfov=100', 'google_place_id': 'ChIJFT22bDPGw4kRLaF3nfupzdg', 'google_cid': '15622329580561867053'}]}\n"
     ]
    }
   ],
   "source": [
    "import requests\n",
    "\n",
    "city = input(\"Where are you located? (Please enter following format: City, State Abbreviation, USA) Example: Edison, NJ, USA\")\n",
    "limit =input(\"How many charging station?\")\n",
    "\n",
    "url = \"https://ev-charge-finder.p.rapidapi.com/search-by-location\"\n",
    "\n",
    "querystring = {\"near\":city, \"limit\":limit}\n",
    "\n",
    "headers = {\n",
    "\t\"X-RapidAPI-Key\": RapidAPIKey,\n",
    "\t\"X-RapidAPI-Host\": \"ev-charge-finder.p.rapidapi.com\"\n",
    "}\n",
    "\n",
    "response = requests.get(url, headers=headers, params=querystring)\n",
    "\n",
    "print(response.json())"
   ]
  },
  {
   "cell_type": "code",
   "execution_count": null,
   "metadata": {},
   "outputs": [],
   "source": []
  },
  {
   "cell_type": "code",
   "execution_count": null,
   "metadata": {},
   "outputs": [],
   "source": []
  },
  {
   "cell_type": "markdown",
   "metadata": {
    "id": "8bCDEcbjaAv2"
   },
   "source": [
    "## Step 2: Perform data preparation & cleaning"
   ]
  },
  {
   "cell_type": "markdown",
   "metadata": {
    "id": "8bCDEcbjaAv2"
   },
   "source": [
    "## Step 3: Data Analysis"
   ]
  },
  {
   "cell_type": "markdown",
   "metadata": {
    "id": "8bCDEcbjaAv2"
   },
   "source": [
    "## Step 4: Data Visualization"
   ]
  },
  {
   "cell_type": "markdown",
   "metadata": {
    "id": "8bCDEcbjaAv2"
   },
   "source": [
    "## Ask & answer questions"
   ]
  },
  {
   "cell_type": "markdown",
   "metadata": {
    "id": "8bCDEcbjaAv2"
   },
   "source": [
    "## Conclusion"
   ]
  }
 ],
 "metadata": {
  "kernelspec": {
   "display_name": "dev",
   "language": "python",
   "name": "python3"
  },
  "language_info": {
   "codemirror_mode": {
    "name": "ipython",
    "version": 3
   },
   "file_extension": ".py",
   "mimetype": "text/x-python",
   "name": "python",
   "nbconvert_exporter": "python",
   "pygments_lexer": "ipython3",
   "version": "3.10.13"
  },
  "orig_nbformat": 4
 },
 "nbformat": 4,
 "nbformat_minor": 2
}
