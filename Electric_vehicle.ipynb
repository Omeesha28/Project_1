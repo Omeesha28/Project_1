{
 "cells": [
  {
   "cell_type": "markdown",
   "metadata": {},
   "source": [
    "## Data Analysis On Electric Vehicle "
   ]
  },
  {
   "cell_type": "markdown",
   "metadata": {},
   "source": [
    "- It involves using different graphs and plots to help visualise the data and also uses statistical methods to draw inferences from the data.\n",
    "\n",
    "- The goal of this analysis is not to arrive at a certain right answer or to confirm a pre-defined hypothesis. It is an exploratory process to draw inferences and get ideas on how the data can be further utilised to predict certain outcomes/develop ML models"
   ]
  },
  {
   "cell_type": "markdown",
   "metadata": {
    "id": "sesM50tmSeWk"
   },
   "source": [
    "## Introduction to the Electric Vehicles"
   ]
  },
  {
   "cell_type": "markdown",
   "metadata": {
    "id": "_WWzvtnJUo7S"
   },
   "source": [
    "Which is the best electric car? What would be the best option for the x person? \n",
    "\n",
    "- Which car?\n",
    "** Mileage/Range \n",
    "** Pricing \n",
    "** How many seats\n",
    "- How far is the charging station?\n",
    "** Charging for the price?\n",
    "** If charging station is supercharge - DURATION?\n",
    "- Does the car manufature give goverment subsidy?\n",
    "\n",
    "## About Dataset\n",
    "\n",
    "We will be downloading the electric vehicle manufature data set from: \n",
    "https://documenter.getpostman.com/view/3967924/RW1hhvSR#5977afdf-8740-401a-9fd5-e926c983aa52\n",
    "- Get Dealers\n",
    "\n",
    "https://rapidapi.com/letscrape-6bRBa3QguO5/api/ev-charge-finder\n",
    "- Charging Location \n",
    "\n",
    "### PROJECT OUTINE\n",
    "\n",
    "The steps involved in the process of Exploratory Data Analysis are.,\n",
    "\n",
    "- Import the required libraries and its dependencies.\n",
    "\n",
    "- Download the dataset.\n",
    "\n",
    "- Data preparation and cleaning it.\n",
    "\n",
    "- Exploratory Analysis.\n",
    "\n",
    "- Ask and solve questions from the data.\n",
    "\n",
    "- Pictorial representation of data using visualization techniques."
   ]
  },
  {
   "cell_type": "markdown",
   "metadata": {
    "id": "wW331e6qXNUA"
   },
   "source": [
    "## Installing Packages and Importing Libraries"
   ]
  },
  {
   "cell_type": "code",
   "execution_count": 1,
   "metadata": {},
   "outputs": [],
   "source": [
    "!pip install opendatasets jovian --quiet --upgrade"
   ]
  },
  {
   "cell_type": "code",
   "execution_count": 2,
   "metadata": {},
   "outputs": [
    {
     "data": {
      "application/javascript": "if (window.IPython && IPython.notebook.kernel) IPython.notebook.kernel.execute('jovian.utils.jupyter.get_notebook_name_saved = lambda: \"' + IPython.notebook.notebook_name + '\"')",
      "text/plain": [
       "<IPython.core.display.Javascript object>"
      ]
     },
     "metadata": {},
     "output_type": "display_data"
    }
   ],
   "source": [
    "import opendatasets as od\n",
    "import pandas as pd\n",
    "import numpy as np\n",
    "import matplotlib.pyplot as plt\n",
    "import seaborn as sns\n",
    "import plotly.express as px\n",
    "import plotly.graph_objs as go\n",
    "from plotly.subplots import make_subplots\n",
    "import jovian\n",
    "\n",
    "%matplotlib inline"
   ]
  },
  {
   "cell_type": "code",
   "execution_count": 4,
   "metadata": {},
   "outputs": [
    {
     "name": "stdout",
     "output_type": "stream",
     "text": [
      "{'message': 'You are not subscribed to this API.'}\n"
     ]
    }
   ],
   "source": [
    "import requests\n",
    "\n",
    "url = \"https://ev-charge-finder.p.rapidapi.com/search-by-coordinates-point\"\n",
    "\n",
    "querystring = {\"lat\":\"37.359428\",\"lng\":\"-121.925337\",\"limit\":\"20\"}\n",
    "\n",
    "headers = {\n",
    "\t\"X-RapidAPI-Key\": \"SIGN-UP-FOR-KEY\",\n",
    "\t\"X-RapidAPI-Host\": \"ev-charge-finder.p.rapidapi.com\"\n",
    "}\n",
    "\n",
    "response = requests.get(url, headers=headers, params=querystring)\n",
    "\n",
    "print(response.json())"
   ]
  },
  {
   "cell_type": "code",
   "execution_count": null,
   "metadata": {},
   "outputs": [],
   "source": [
    "# Import the Rapid API key\n",
    "from api_keys import weather_api_key\n",
    "\n",
    "# Import the PostMate/MarketCheck API key\n",
    "from api_keys import weather_api_key\n",
    "\n",
    "# Set the API base URL\n",
    "url = \"http://api.openweathermap.org/data/2.5/weather?units=Metric&APPID=\" + weather_api_key"
   ]
  },
  {
   "cell_type": "markdown",
   "metadata": {},
   "source": [
    "## Steps in Exploratory Data Analysis\n",
    "* Select the real-world data set from Kaggle/any other source.\n",
    "* Download the dataset and convert it into a Pandas DataFrame.\n",
    "* Perform data cleaning/deal with missing values using Pandas and NumPy.\n",
    "* Plot interactive graphs to understand the data using visual libraries like Plotly.\n",
    "* Ask and Answer interesting questions from the dataset.\n",
    "* Summarize your key inferences and state the conclusion.\n",
    "* Elaborate on ideas for future work and quote references."
   ]
  },
  {
   "cell_type": "markdown",
   "metadata": {
    "id": "kprU8zHjYIpf"
   },
   "source": [
    "## Step 1: Download the dataset"
   ]
  },
  {
   "cell_type": "code",
   "execution_count": null,
   "metadata": {
    "id": "2uV40oN_X2yS"
   },
   "outputs": [],
   "source": [
    "!pip install opendatasets --upgrade --quiet"
   ]
  },
  {
   "cell_type": "code",
   "execution_count": null,
   "metadata": {
    "colab": {
     "base_uri": "https://localhost:8080/"
    },
    "id": "Vky-YH4LYR5h",
    "outputId": "db026a61-7a49-4ade-a002-99fec7b19d34"
   },
   "outputs": [
    {
     "name": "stdout",
     "output_type": "stream",
     "text": [
      "Skipping, found downloaded files in \"./electric-vehicle-population-data-washington-us\" (use force=True to force download)\n"
     ]
    }
   ],
   "source": [
    "import opendatasets as od\n",
    "url='https://www.kaggle.com/datasets/usamabuttar/electric-vehicle-population-data-washington-us'\n",
    "od.download(url)"
   ]
  },
  {
   "cell_type": "code",
   "execution_count": null,
   "metadata": {},
   "outputs": [],
   "source": []
  },
  {
   "cell_type": "code",
   "execution_count": null,
   "metadata": {},
   "outputs": [],
   "source": []
  },
  {
   "cell_type": "code",
   "execution_count": null,
   "metadata": {},
   "outputs": [],
   "source": []
  },
  {
   "cell_type": "markdown",
   "metadata": {
    "id": "8bCDEcbjaAv2"
   },
   "source": [
    "## Step 2: Perform data preparation & cleaning"
   ]
  },
  {
   "cell_type": "markdown",
   "metadata": {
    "id": "8bCDEcbjaAv2"
   },
   "source": [
    "## Step 3: Data Analysis"
   ]
  },
  {
   "cell_type": "markdown",
   "metadata": {
    "id": "8bCDEcbjaAv2"
   },
   "source": [
    "## Step 4: Data Visualization"
   ]
  },
  {
   "cell_type": "markdown",
   "metadata": {
    "id": "8bCDEcbjaAv2"
   },
   "source": [
    "## Ask & answer questions"
   ]
  },
  {
   "cell_type": "markdown",
   "metadata": {
    "id": "8bCDEcbjaAv2"
   },
   "source": [
    "## Conclusion"
   ]
  }
 ],
 "metadata": {
  "kernelspec": {
   "display_name": "dev",
   "language": "python",
   "name": "python3"
  },
  "language_info": {
   "codemirror_mode": {
    "name": "ipython",
    "version": 3
   },
   "file_extension": ".py",
   "mimetype": "text/x-python",
   "name": "python",
   "nbconvert_exporter": "python",
   "pygments_lexer": "ipython3",
   "version": "3.10.13"
  },
  "orig_nbformat": 4
 },
 "nbformat": 4,
 "nbformat_minor": 2
}
