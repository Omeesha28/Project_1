{
 "cells": [
  {
   "cell_type": "markdown",
   "source": [
    "## Data Analysis On Electric Vehicle "
   ],
   "metadata": {}
  },
  {
   "cell_type": "markdown",
   "source": [
    "- It involves using different graphs and plots to help visualise the data and also uses statistical methods to draw inferences from the data.\n",
    "\n",
    "- The goal of this analysis is not to arrive at a certain right answer or to confirm a pre-defined hypothesis. It is an exploratory process to draw inferences and get ideas on how the data can be further utilised to predict certain outcomes/develop ML models"
   ],
   "metadata": {}
  },
  {
   "cell_type": "markdown",
   "source": [
    "## Introduction to the Electric Vehicles"
   ],
   "metadata": {
    "id": "sesM50tmSeWk"
   }
  },
  {
   "cell_type": "markdown",
   "source": [
    "\n",
    "\n",
    "## About Dataset\n",
    "\n",
    "We will be downloading the electric vehicle and population data set from https://www.kaggle.com/\n",
    "\n",
    "https://documenter.getpostman.com/view/3967924/RW1hhvSR#5977afdf-8740-401a-9fd5-e926c983aa52\n",
    "\n",
    "Get Dealers\n",
    "Inventory Search API for Vechile Type\n",
    "https://developer.tomtom.com/ev-charging-stations-availability-api/documentation/product-information/introduction\n",
    "\n",
    "Charging Stations (free or paid??)\n",
    "\n",
    "### PROJECT OUTINE\n",
    "\n",
    "The steps involved in the process of Exploratory Data Analysis are.,\n",
    "\n",
    "- Import the required libraries and its dependencies.\n",
    "\n",
    "- Download the dataset.\n",
    "\n",
    "- Data preparation and cleaning it.\n",
    "\n",
    "- Exploratory Analysis.\n",
    "\n",
    "- Ask and solve questions from the data.\n",
    "\n",
    "- Pictorial representation of data using visualization techniques."
   ],
   "metadata": {
    "id": "_WWzvtnJUo7S"
   }
  },
  {
   "cell_type": "markdown",
   "source": [
    "## Installing Packages and Importing Libraries"
   ],
   "metadata": {
    "id": "wW331e6qXNUA"
   }
  },
  {
   "cell_type": "code",
   "execution_count": null,
   "source": [
    "!pip install opendatasets jovian --quiet --upgrade"
   ],
   "outputs": [],
   "metadata": {}
  },
  {
   "cell_type": "code",
   "execution_count": null,
   "source": [
    "import opendatasets as od\n",
    "import pandas as pd\n",
    "import numpy as np\n",
    "import matplotlib.pyplot as plt\n",
    "import seaborn as sns\n",
    "import plotly.express as px\n",
    "import plotly.graph_objs as go\n",
    "from plotly.subplots import make_subplots\n",
    "import jovian\n",
    "\n",
    "%matplotlib inline"
   ],
   "outputs": [],
   "metadata": {}
  },
  {
   "cell_type": "markdown",
   "source": [
    "## Steps in Exploratory Data Analysis\n",
    "* Select the real-world data set from Kaggle/any other source.\n",
    "* Download the dataset and convert it into a Pandas DataFrame.\n",
    "* Perform data cleaning/deal with missing values using Pandas and NumPy.\n",
    "* Plot interactive graphs to understand the data using visual libraries like Plotly.\n",
    "* Ask and Answer interesting questions from the dataset.\n",
    "* Summarize your key inferences and state the conclusion.\n",
    "* Elaborate on ideas for future work and quote references."
   ],
   "metadata": {}
  },
  {
   "cell_type": "markdown",
   "source": [
    "## Step 1: Download the dataset"
   ],
   "metadata": {
    "id": "kprU8zHjYIpf"
   }
  },
  {
   "cell_type": "code",
   "execution_count": null,
   "source": [
    "!pip install opendatasets --upgrade --quiet"
   ],
   "outputs": [],
   "metadata": {
    "id": "2uV40oN_X2yS"
   }
  },
  {
   "cell_type": "code",
   "execution_count": null,
   "source": [
    "import opendatasets as od\n",
    "url='https://www.kaggle.com/datasets/usamabuttar/electric-vehicle-population-data-washington-us'\n",
    "od.download(url)"
   ],
   "outputs": [
    {
     "output_type": "stream",
     "name": "stdout",
     "text": [
      "Skipping, found downloaded files in \"./electric-vehicle-population-data-washington-us\" (use force=True to force download)\n"
     ]
    }
   ],
   "metadata": {
    "colab": {
     "base_uri": "https://localhost:8080/"
    },
    "id": "Vky-YH4LYR5h",
    "outputId": "db026a61-7a49-4ade-a002-99fec7b19d34"
   }
  },
  {
   "cell_type": "code",
   "execution_count": null,
   "source": [],
   "outputs": [],
   "metadata": {}
  },
  {
   "cell_type": "code",
   "execution_count": null,
   "source": [],
   "outputs": [],
   "metadata": {}
  },
  {
   "cell_type": "code",
   "execution_count": null,
   "source": [],
   "outputs": [],
   "metadata": {}
  },
  {
   "cell_type": "markdown",
   "source": [
    "## Step 2: Perform data preparation & cleaning"
   ],
   "metadata": {
    "id": "8bCDEcbjaAv2"
   }
  },
  {
   "cell_type": "markdown",
   "source": [
    "## Step 3: Data Analysis"
   ],
   "metadata": {
    "id": "8bCDEcbjaAv2"
   }
  },
  {
   "cell_type": "markdown",
   "source": [
    "## Step 4: Data Visualization"
   ],
   "metadata": {
    "id": "8bCDEcbjaAv2"
   }
  },
  {
   "cell_type": "markdown",
   "source": [
    "## Ask & answer questions"
   ],
   "metadata": {
    "id": "8bCDEcbjaAv2"
   }
  },
  {
   "cell_type": "markdown",
   "source": [
    "## Conclusion"
   ],
   "metadata": {
    "id": "8bCDEcbjaAv2"
   }
  }
 ],
 "metadata": {
  "orig_nbformat": 4,
  "language_info": {
   "name": "python"
  }
 },
 "nbformat": 4,
 "nbformat_minor": 2
}